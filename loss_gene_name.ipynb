{
 "cells": [
  {
   "cell_type": "code",
   "execution_count": 36,
   "metadata": {},
   "outputs": [
    {
     "name": "stdout",
     "output_type": "stream",
     "text": [
      "Index(['fusarium_culmorum_113133.proteins',\n",
      "       'fusarium_culmorum_135794.proteins',\n",
      "       'fusarium_culmorum_159025.proteins',\n",
      "       'fusarium_culmorum_202042.proteins',\n",
      "       'fusarium_culmorum_270555.proteins',\n",
      "       'fusarium_culmorum_309752.proteins',\n",
      "       'fusarium_culmorum_336336.proteins'],\n",
      "      dtype='object')\n",
      "113133\n",
      "135794\n",
      "159025\n",
      "202042\n",
      "270555\n",
      "309752\n",
      "336336\n"
     ]
    }
   ],
   "source": [
    "import pandas as pd\n",
    "import re\n",
    "\n",
    "loss_ortho = pd.read_csv(f\"/Users/user/fcul_EFF_loss_ortho.tsv\", sep = '\\t')\n",
    "loss_ortho = loss_ortho.drop(loss_ortho.columns[0], axis = 1) #deleting the first column (orthogroup name)\n",
    "print(loss_ortho.columns)\n",
    "\n",
    "def extract_numbers(column_name):\n",
    "    numbers = re.findall(r'\\d+', column_name)\n",
    "    return ''.join(numbers)\n",
    "\n",
    "\n",
    "def process_column(col_name):\n",
    "    non_null_values = []\n",
    "    sample_num = extract_numbers(col_name)\n",
    "    print(sample_num)\n",
    "    for index, value in enumerate(loss_ortho[col_name]):\n",
    "        if pd.isnull(value):\n",
    "            for col in loss_ortho.columns:\n",
    "                if col != col_name and not pd.isnull(loss_ortho.at[index, col]):\n",
    "                    non_null_values.append(loss_ortho.at[index, col])\n",
    "        else:\n",
    "            continue\n",
    "    with open(f'fcul{sample_num}_lost_names.txt', 'w') as file:\n",
    "        file.write('\\n'.join(non_null_values))\n",
    "\n",
    "for cols in loss_ortho.columns:\n",
    "    process_column(cols)"
   ]
  }
 ],
 "metadata": {
  "kernelspec": {
   "display_name": "af_processing",
   "language": "python",
   "name": "python3"
  },
  "language_info": {
   "name": "python",
   "version": "3.12.1"
  }
 },
 "nbformat": 4,
 "nbformat_minor": 2
}
